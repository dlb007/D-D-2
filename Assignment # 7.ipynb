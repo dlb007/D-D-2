{
 "cells": [
  {
   "cell_type": "markdown",
   "metadata": {},
   "source": [
    "# Exercise Seven: Textual Analysis\n",
    "\n",
    "In this exercise, I will not be providing the subheadings. Work from our code examples and the textbooks to construct a well-documented notebook that provides a model for initial textual analysis of a multi-document corpus.\n",
    "\n",
    "Your workflow should:\n",
    "\n",
    "(This notebook provides a model for initial textual analysis of a multi-document corpus.\n",
    "\n",
    "Your workflow should:\n",
    "\n",
    "- Import at least three documents you would like to compare (from text files, or using another format for a challenge.)\n",
    "- Preprocess the text and create a tokenized corpus from the text of the imported documents.\n",
    "- Create a document term matrix to enable comparative textual analysis across the full set of documents\n",
    "- Chart at least one comparison between the documents, using word frequency to map the text\n",
    "- Calculate the Euclidean distance between the documents, using two key words as the point of comparison\n",
    "- As a bonus challenge, consider trying one of the other types of distance modeling described in the text.)\n",
    "\n",
    "DONT'T FORGET TO ANNOTATE!!!"
   ]
  },
  {
   "cell_type": "markdown",
   "metadata": {},
   "source": [
    "## Stage One - Import at least three documents you would like to compare (from text files, or using another format for a challenge.)\n"
   ]
  },
  {
   "cell_type": "code",
   "execution_count": 7,
   "metadata": {},
   "outputs": [
    {
     "name": "stdout",
     "output_type": "stream",
     "text": [
      "atomic.txt\n",
      "behind.txt\n",
      "boys.txt\n",
      "first.txt\n",
      "french.txt\n",
      "island.txt\n",
      "life.txt\n",
      "living.txt\n",
      "motion.txt\n",
      "mystery.txt\n",
      "snowbound.txt\n",
      "togoland.txt\n",
      "war.txt\n",
      "wells.txt\n",
      "behind.txt\n",
      "﻿The Project Gutenberg EBook of Behind the Screen, by Samuel Goldwyn\n",
      "\n",
      "This eBook is for the use of a\n"
     ]
    }
   ],
   "source": [
    "import nltk\n",
    "import nltk.tokenize\n",
    "\n",
    "# download the most recent punkt package\n",
    "nltk.download('punkt', quiet=True)\n",
    "\n",
    "import os\n",
    "documents = []\n",
    "titles =[]\n",
    "path = 'Films/'\n",
    "with os.scandir(path) as entries:\n",
    "    for entry in entries:\n",
    "        print(entry.name)\n",
    "        f = open(f'{path}\\{entry.name}',encoding='utf-8')\n",
    "        text = f.read()\n",
    "        documents.append(text)\n",
    "        titles.append(entry.name)\n",
    "print(titles[1])\n",
    "print(documents[1][0:100])"
   ]
  },
  {
   "cell_type": "markdown",
   "metadata": {},
   "source": [
    "## Stage Two - Preprocess the text and create a tokenized corpus from the text of the imported documents"
   ]
  },
  {
   "cell_type": "code",
   "execution_count": 8,
   "metadata": {},
   "outputs": [
    {
     "name": "stdout",
     "output_type": "stream",
     "text": [
      "united\n"
     ]
    }
   ],
   "source": [
    "import re\n",
    "PUNCT_RE = re.compile(r'[^\\w\\s]+$')\n",
    "\n",
    "def is_punct(string):\n",
    "    \"\"\"Check if STRING is a punctuation marker or a sequence of\n",
    "       punctuation markers.\n",
    "    \"\"\"\n",
    "    return PUNCT_RE.match(string) is not None\n",
    "def preprocess_text(text, language, lowercase=True):\n",
    "    \"\"\"Preprocess a text.\n",
    "\n",
    "    Perform a text preprocessing procedure, which transforms a string\n",
    "    object into a list of word tokens without punctuation markers.\n",
    "\n",
    "    \"\"\"\n",
    "    if lowercase:\n",
    "        text = text.lower()\n",
    "    tokens = nltk.tokenize.word_tokenize(text, language=language)\n",
    "    tokens = [token for token in tokens if not is_punct(token)]\n",
    "    return tokens\n",
    "tokenized = []\n",
    "for text in documents:\n",
    "    tokenized.append(preprocess_text(text, \"english\"))\n",
    "\n",
    "print(tokenized[0][11])"
   ]
  },
  {
   "cell_type": "markdown",
   "metadata": {},
   "source": [
    "## Stage Three: Create a document term matrix to enable comparative textual analysis across the full set of documents"
   ]
  },
  {
   "cell_type": "code",
   "execution_count": 10,
   "metadata": {},
   "outputs": [
    {
     "name": "stdout",
     "output_type": "stream",
     "text": [
      "[\"'_i_\", \"'ad\", \"'ail\", \"'and\", \"'ands\", \"'ardly\", \"'arf\", \"'arf-crowns\", \"'as-is\", \"'at\", \"'ave\", \"'black\", \"'blighty\", \"'blow\", \"'boo\", \"'bosche\", \"'bus\", \"'but\", \"'certainly\", \"'come\", \"'d\", \"'dead\", \"'eard\", \"'eart\", \"'em\", \"'er\", \"'ere\", \"'flying\", \"'go\", \"'here\", \"'hush\", \"'if\", \"'im\", \"'ims\", \"'ired\", \"'is\", \"'it\", \"'jacob\", \"'lanwick\", \"'lark\", \"'life\", \"'ll\", \"'m\", \"'macaroni\", \"'movie\", \"'movie-man\", \"'my\", \"'no\", \"'not\", \"'ole\", \"'olidays\", \"'ome\", \"'orse\", \"'ouse\", \"'ow\", \"'phone\", \"'poetry\", \"'re\", \"'s\", \"'seeing\", \"'strafe\", \"'strafing\", \"'that\", \"'the\", \"'there\", \"'they\", \"'thou\", \"'treasure\", \"'uff\", \"'undreds\", \"'urt\", \"'varsity\", \"'ve\", \"'well\", \"'what\", \"'white\", \"'why\", \"'yes\", \"'you\", '.zip', '//gallica.bnf.fr', '//gutenberg.org/license', '//pglaf.org', '//pglaf.org/donate', '//pglaf.org/fundraising', '//www.gutenberg.org', '//www.gutenberg.org/about/contact', '//www.gutenberg.org/fundraising/donate', '//www.gutenberg.org/fundraising/pglaf', '//www.gutenberg.org/license', '//www.nv.doe.gov/news', '//www.osti.gov/historicalfilms/filmlist.html', '//www.pgdp.net', '//www.pglaf.org', '/d/', '/z/', '/š/', '/ə/', '07', '1']\n"
     ]
    }
   ],
   "source": [
    "def extract_vocabulary(tokenized_corpus, min_count=1, max_count=float('inf')):\n",
    "    \"\"\"Extract a vocabulary from a tokenized corpus.\n",
    "\n",
    "    Arguments:\n",
    "        tokenized_corpus (list): a tokenized corpus represented, list\n",
    "            of lists of strings.\n",
    "        min_count (int, optional): the minimum occurrence count of a\n",
    "            vocabulary item in the corpus.\n",
    "        max_count (int, optional): the maximum occurrence count of a\n",
    "            vocabulary item in the corpus. Defaults to inf.\n",
    "\n",
    "    Returns:\n",
    "        list: An alphabetically ordered list of unique words in the\n",
    "            corpus, of which the frequencies adhere to the specified\n",
    "            minimum and maximum count.\n",
    "\n",
    "    Examples:\n",
    "        >>> corpus = [['the', 'man', 'love', 'man', 'the'],\n",
    "                      ['the', 'love', 'book', 'wise', 'drama'],\n",
    "                      ['a', 'story', 'book', 'drama']]\n",
    "        >>> extract_vocabulary(corpus, min_count=2)\n",
    "        ['book', 'drama', 'love', 'man', 'the']\n",
    "\n",
    "    \"\"\"\n",
    "    vocabulary = collections.Counter()\n",
    "    for document in tokenized_corpus:\n",
    "        vocabulary.update(document)\n",
    "    vocabulary = {word for word, count in vocabulary.items()\n",
    "                  if count >= min_count and count <= max_count}\n",
    "    return sorted(vocabulary)\n",
    "import collections\n",
    "vocabulary = extract_vocabulary(tokenized, min_count=2)\n",
    "print(vocabulary[0:100])\n",
    "\n",
    "def corpus2dtm(tokenized_corpus, vocabulary):\n",
    "    \"\"\"Transform a tokenized corpus into a document-term matrix.\n",
    "\n",
    "    Arguments:\n",
    "        tokenized_corpus (list): a tokenized corpus as a list of\n",
    "        lists of strings. vocabulary (list): An list of unique words.\n",
    "\n",
    "    Returns:\n",
    "        list: A list of lists representing the frequency of each term\n",
    "              in `vocabulary` for each document in the corpus.\n",
    "\n",
    "    Examples:\n",
    "        >>> tokenized_corpus = [['the', 'man', 'man', 'smart'],\n",
    "                                ['a', 'the', 'man' 'love'],\n",
    "                                ['love', 'book', 'journey']]\n",
    "        >>> vocab = ['book', 'journey', 'man', 'love']\n",
    "        >>> corpus2dtm(tokenized_corpus, vocabulary)\n",
    "        [[0, 0, 2, 0], [0, 0, 1, 1], [1, 1, 0, 1]]\n",
    "\n",
    "    \"\"\"\n",
    "    document_term_matrix = []\n",
    "    for document in tokenized_corpus:\n",
    "        document_counts = collections.Counter(document)\n",
    "        row = [document_counts[word] for word in vocabulary]\n",
    "        document_term_matrix.append(row)\n",
    "    return document_term_matrix\n",
    "\n",
    "import numpy as np\n",
    "\n",
    "document_term_matrix = np.array(corpus2dtm(tokenized, vocabulary))"
   ]
  },
  {
   "cell_type": "markdown",
   "metadata": {},
   "source": [
    "## Stage Four: Chart at least one comparison between the documents, using word frequency to map the text"
   ]
  },
  {
   "cell_type": "code",
   "execution_count": 11,
   "metadata": {},
   "outputs": [
    {
     "name": "stdout",
     "output_type": "stream",
     "text": [
      "She: [  0 604  28   0   0   0   0   0  20 357 186 102  19 314]\n",
      "He: [   2  602  569    2    2    2   71    2    7 1171  574  629  536 1568]\n",
      "They: [  3 116 562   3   3   3  18   3  75 157 292 454 461 292]\n"
     ]
    },
    {
     "data": {
      "image/png": "[encoded data removed]",
      "text/plain": [
       "<Figure size 432x288 with 1 Axes>"
      ]
     },
     "metadata": {
      "needs_background": "light"
     },
     "output_type": "display_data"
    }
   ],
   "source": [
    "girl_id = vocabulary.index('she')\n",
    "boy_id = vocabulary.index('he')\n",
    "they_id = vocabulary.index('they')\n",
    "\n",
    "girl_counts = document_term_matrix[:, girl_id]\n",
    "boy_counts = document_term_matrix[:, boy_id]\n",
    "they_counts = document_term_matrix[:, they_id]\n",
    "print(\"She: \" + str(girl_counts))\n",
    "print(\"He: \" + str(boy_counts))\n",
    "print(\"They: \" + str(they_counts))\n",
    "import matplotlib.pyplot as plt\n",
    "\n",
    "x = np.arange(len(titles))\n",
    "width = 1/(len(titles))\n",
    "\n",
    "fig, ax = plt.subplots()\n",
    "rects1 = ax.bar(x - width, girl_counts, width, label='She')\n",
    "rects2 = ax.bar(x, boy_counts, width, label='He')\n",
    "rects3 = ax.bar(x + width, they_counts, width, label='They')\n",
    "\n",
    "\n",
    "ax.set_ylabel('Word Count')\n",
    "ax.set_title('Pronoun Frequency')\n",
    "ax.set_xticks(x)\n",
    "ax.set_xticklabels(titles)\n",
    "ax.legend()\n",
    "\n",
    "fig.tight_layout()\n",
    "\n",
    "plt.show()"
   ]
  },
  {
   "cell_type": "markdown",
   "metadata": {},
   "source": [
    "## Stage Five: Calculate the Euclidean distance between the documents, using two key words as the point of comparison"
   ]
  },
  {
   "cell_type": "code",
   "execution_count": 12,
   "metadata": {},
   "outputs": [
    {
     "name": "stdout",
     "output_type": "stream",
     "text": [
      "atomic.txt vs behind.txt: 610.5481144021329\n",
      "atomic.txt vs boys.txt: 796.2223307594431\n",
      "atomic.txt vs first.txt: 0.0\n",
      "atomic.txt vs french.txt: 0.0\n",
      "atomic.txt vs island.txt: 0.0\n",
      "atomic.txt vs life.txt: 70.61161377563892\n",
      "atomic.txt vs living.txt: 0.0\n",
      "atomic.txt vs motion.txt: 72.17340230306452\n",
      "atomic.txt vs mystery.txt: 1179.1000805699234\n",
      "atomic.txt vs snowbound.txt: 640.862699803944\n",
      "atomic.txt vs togoland.txt: 772.3535459878461\n",
      "atomic.txt vs war.txt: 703.5055081518552\n",
      "atomic.txt vs wells.txt: 1592.4437195706478\n",
      "behind.txt vs boys.txt: 447.21918563496354\n",
      "behind.txt vs first.txt: 610.5481144021329\n",
      "behind.txt vs french.txt: 610.5481144021329\n",
      "behind.txt vs island.txt: 610.5481144021329\n",
      "behind.txt vs life.txt: 539.9675916200897\n",
      "behind.txt vs living.txt: 610.5481144021329\n",
      "behind.txt vs motion.txt: 596.4109321600334\n",
      "behind.txt vs mystery.txt: 570.4752404793744\n",
      "behind.txt vs snowbound.txt: 178.2133552795637\n",
      "behind.txt vs togoland.txt: 339.0766874911928\n",
      "behind.txt vs war.txt: 351.25631666918105\n",
      "behind.txt vs wells.txt: 981.902235459315\n",
      "boys.txt vs first.txt: 796.2223307594431\n",
      "boys.txt vs french.txt: 796.2223307594431\n",
      "boys.txt vs island.txt: 796.2223307594431\n",
      "boys.txt vs life.txt: 737.5228810009897\n",
      "boys.txt vs living.txt: 796.2223307594431\n",
      "boys.txt vs motion.txt: 743.6484384438658\n",
      "boys.txt vs mystery.txt: 725.5542708853694\n",
      "boys.txt vs snowbound.txt: 270.04629232781554\n",
      "boys.txt vs togoland.txt: 123.54756169184401\n",
      "boys.txt vs war.txt: 106.25441167311595\n",
      "boys.txt vs wells.txt: 1034.8434664237873\n",
      "first.txt vs french.txt: 0.0\n",
      "first.txt vs island.txt: 0.0\n",
      "first.txt vs life.txt: 70.61161377563892\n",
      "first.txt vs living.txt: 0.0\n",
      "first.txt vs motion.txt: 72.17340230306452\n",
      "first.txt vs mystery.txt: 1179.1000805699234\n",
      "first.txt vs snowbound.txt: 640.862699803944\n",
      "first.txt vs togoland.txt: 772.3535459878461\n",
      "first.txt vs war.txt: 703.5055081518552\n",
      "first.txt vs wells.txt: 1592.4437195706478\n",
      "french.txt vs island.txt: 0.0\n",
      "french.txt vs life.txt: 70.61161377563892\n",
      "french.txt vs living.txt: 0.0\n",
      "french.txt vs motion.txt: 72.17340230306452\n",
      "french.txt vs mystery.txt: 1179.1000805699234\n",
      "french.txt vs snowbound.txt: 640.862699803944\n",
      "french.txt vs togoland.txt: 772.3535459878461\n",
      "french.txt vs war.txt: 703.5055081518552\n",
      "french.txt vs wells.txt: 1592.4437195706478\n",
      "island.txt vs life.txt: 70.61161377563892\n",
      "island.txt vs living.txt: 0.0\n",
      "island.txt vs motion.txt: 72.17340230306452\n",
      "island.txt vs mystery.txt: 1179.1000805699234\n",
      "island.txt vs snowbound.txt: 640.862699803944\n",
      "island.txt vs togoland.txt: 772.3535459878461\n",
      "island.txt vs war.txt: 703.5055081518552\n",
      "island.txt vs wells.txt: 1592.4437195706478\n",
      "life.txt vs living.txt: 70.61161377563892\n",
      "life.txt vs motion.txt: 85.70297544426332\n",
      "life.txt vs mystery.txt: 1108.7474915416944\n",
      "life.txt vs snowbound.txt: 572.7870459429054\n",
      "life.txt vs togoland.txt: 708.1384045509748\n",
      "life.txt vs war.txt: 642.2413876417495\n",
      "life.txt vs wells.txt: 1521.8689168256246\n",
      "living.txt vs motion.txt: 72.17340230306452\n",
      "living.txt vs mystery.txt: 1179.1000805699234\n",
      "living.txt vs snowbound.txt: 640.862699803944\n",
      "living.txt vs togoland.txt: 772.3535459878461\n",
      "living.txt vs war.txt: 703.5055081518552\n",
      "living.txt vs wells.txt: 1592.4437195706478\n",
      "motion.txt vs mystery.txt: 1166.8847415233433\n",
      "motion.txt vs snowbound.txt: 607.1062509973028\n",
      "motion.txt vs togoland.txt: 728.3714711601492\n",
      "motion.txt vs war.txt: 654.8564728243892\n",
      "motion.txt vs wells.txt: 1576.010786765116\n",
      "mystery.txt vs snowbound.txt: 612.0735249951593\n",
      "mystery.txt vs togoland.txt: 618.0396427414669\n",
      "mystery.txt vs war.txt: 704.0177554579145\n",
      "mystery.txt vs wells.txt: 419.32564910818417\n",
      "snowbound.txt vs togoland.txt: 171.0818517552344\n",
      "snowbound.txt vs war.txt: 173.21951391226105\n",
      "snowbound.txt vs wells.txt: 994.0\n",
      "togoland.txt vs war.txt: 93.26306878931231\n",
      "togoland.txt vs wells.txt: 952.87197461149\n",
      "war.txt vs wells.txt: 1045.7461451040592\n"
     ]
    }
   ],
   "source": [
    "def euclidean_distance(a, b):\n",
    "    \"\"\"Compute the Euclidean distance between two vectors.\n",
    "\n",
    "    Note: ``numpy.linalg.norm(a - b)`` performs the\n",
    "    same calculation using a slightly faster method.\n",
    "\n",
    "    Arguments:\n",
    "        a (numpy.ndarray): a vector of floats or ints.\n",
    "        b (numpy.ndarray): a vector of floats or ints.\n",
    "\n",
    "    Returns:\n",
    "        float: The euclidean distance between vector a and b.\n",
    "\n",
    "    Examples:\n",
    "        >>> import numpy as np\n",
    "        >>> a = np.array([1, 4, 2, 8])\n",
    "        >>> b = np.array([2, 1, 4, 7])\n",
    "        >>> round(euclidean_distance(a, b), 2)\n",
    "        3.87\n",
    "\n",
    "    \"\"\"\n",
    "    return np.sqrt(np.sum((a - b) ** 2))\n",
    "vectors = []\n",
    "for x in range(0, len(titles)):\n",
    "    vectors.append([they_counts[x],boy_counts[x]])\n",
    "\n",
    "for x in range(0, len(vectors)):\n",
    "    for y in range(x+1, len(vectors)):\n",
    "        comparison = euclidean_distance(np.array(vectors[x]),np.array(vectors[y]))\n",
    "        print(f'{titles[x]} vs {titles[y]}: {comparison}')"
   ]
  },
  {
   "cell_type": "markdown",
   "metadata": {},
   "source": [
    "## Bonus Stage:\n",
    "\n",
    "As a bonus challenge, consider trying one of the other types of distance modeling described in the text"
   ]
  },
  {
   "cell_type": "code",
   "execution_count": null,
   "metadata": {},
   "outputs": [],
   "source": []
  }
 ],
 "metadata": {
  "interpreter": {
   "hash": "598d64e08a06bfba065a99698ec5bbec753236817de80e4f3bcf221574aa140c"
  },
  "kernelspec": {
   "display_name": "Python 3.8.11 64-bit ('base': conda)",
   "name": "python3"
  },
  "language_info": {
   "codemirror_mode": {
    "name": "ipython",
    "version": 3
   },
   "file_extension": ".py",
   "mimetype": "text/x-python",
   "name": "python",
   "nbconvert_exporter": "python",
   "pygments_lexer": "ipython3",
   "version": "3.8.11"
  },
  "orig_nbformat": 4
 },
 "nbformat": 4,
 "nbformat_minor": 2
}
