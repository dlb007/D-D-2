{
 "cells": [
  {
   "cell_type": "markdown",
   "source": [
    "# Pandas Jupyter Experiment\r\n",
    "\r\n",
    "For this exercise, you will be choosing a dataset that is already available in CSV, using either the links suggested in the module or an external source. Note that the completeness and organization of the CSV will impact your success, so you might want to investigate it using our initial methods before you commit to it and your object of analysis.\r\n",
    "I have provided the headings for each section: you can modify them to reflect your final workflow. Here's what you need to accomplish and document:\r\n",
    "Complete the five sequential stages of importing, analyzing, and visualizing your CSV data using the Pandas library. The headers are provided, but you will need to plan out and structure what happens in the code using a combination of our class exercise and the textbook for guidance.\r\n",
    "\r\n",
    "Create a well-structured, readable documentation for every cell of your Python code. Use Markdown (as demonstrated in this example) and preview the results on GitHub to confirm it works as intended.\r\n",
    "\r\n",
    "As a bonus exercise, output and save a meaningful, formatted visualization, following the examples in the textbook."
   ],
   "metadata": {}
  },
  {
   "cell_type": "markdown",
   "source": [
    "## Stage One: Import Libraries / Data¶\r\n",
    "Movies_metada was the .csv that I focused on in this project. It opened up the film industry components to a data set between years and had elements of interest in categories and data results in multiple areas. Moving forward, there may be an advantage to exploring more well-known libraries. Still, this initial find was a great starting point due to the data inclusion and range of selections of popular and known subjects and titles."
   ],
   "metadata": {}
  },
  {
   "cell_type": "code",
   "execution_count": 2,
   "source": [
    "\r\n",
    "file_name = 'movies_metadata.csv'\r\n",
    "import pandas as pd\r\n",
    "\r\n",
    "df = pd.read_csv(file_name, delimiter=\",\")"
   ],
   "outputs": [
    {
     "output_type": "stream",
     "name": "stderr",
     "text": [
      "C:\\Users\\dlawb\\anaconda3\\lib\\site-packages\\IPython\\core\\interactiveshell.py:3165: DtypeWarning: Columns (10) have mixed types.Specify dtype option on import or set low_memory=False.\n",
      "  has_raised = await self.run_ast_nodes(code_ast.body, cell_name,\n"
     ]
    }
   ],
   "metadata": {}
  },
  {
   "cell_type": "code",
   "execution_count": null,
   "source": [
    "\r\n"
   ],
   "outputs": [],
   "metadata": {}
  },
  {
   "cell_type": "code",
   "execution_count": null,
   "source": [],
   "outputs": [],
   "metadata": {}
  },
  {
   "cell_type": "code",
   "execution_count": null,
   "source": [
    "\r\n"
   ],
   "outputs": [],
   "metadata": {}
  },
  {
   "cell_type": "code",
   "execution_count": null,
   "source": [],
   "outputs": [],
   "metadata": {}
  }
 ],
 "metadata": {
  "orig_nbformat": 4,
  "language_info": {
   "name": "python",
   "version": "3.8.8",
   "mimetype": "text/x-python",
   "codemirror_mode": {
    "name": "ipython",
    "version": 3
   },
   "pygments_lexer": "ipython3",
   "nbconvert_exporter": "python",
   "file_extension": ".py"
  },
  "kernelspec": {
   "name": "python3",
   "display_name": "Python 3.8.8 64-bit ('base': conda)"
  },
  "interpreter": {
   "hash": "598d64e08a06bfba065a99698ec5bbec753236817de80e4f3bcf221574aa140c"
  }
 },
 "nbformat": 4,
 "nbformat_minor": 2
}