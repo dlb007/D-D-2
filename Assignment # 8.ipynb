{
 "cells": [
  {
   "cell_type": "markdown",
   "source": [
    "# Exercise Eight:  Cultural Analysis\r\n",
    "\r\n",
    "(For this exercise, pick a dataset of current or historical cultural data available in CSV format from one of the suggeted sources, or your own research. This will be easiest if your data includes some element of information over time. You'll be using the \"group by\" methods we discussed this week to make comparisons within the dataset: you might group by geography, party affiliation, age, gender, or other information marked in the dataset.\r\n",
    "\r\n",
    "Your annotated code should include headings, and discuss your findings as well as the limitations in what you can visualize using this approach. This exercise should:\r\n",
    "\r\n",
    "- Import your selected structured CSV data\r\n",
    "- Use Pandas to note any preliminary trends in the CSV as a dataframe\r\n",
    "- Use \"group by\" to break down at least two different subsets of data\r\n",
    "- Plot a comparison between the grouped data (this will be easiest over time)\r\n",
    "- Use one additional form of analysis or visualization from any we've tried so far)"
   ],
   "metadata": {}
  },
  {
   "cell_type": "markdown",
   "source": [
    "## Stage One:\r\n",
    "\r\n",
    "Import your selected structured CSV data"
   ],
   "metadata": {}
  },
  {
   "cell_type": "code",
   "execution_count": null,
   "source": [],
   "outputs": [],
   "metadata": {}
  },
  {
   "cell_type": "markdown",
   "source": [
    "## Stage Two: \r\n",
    "\r\n",
    " Use Pandas to note any preliminary trends in the CSV as a dataframe"
   ],
   "metadata": {}
  },
  {
   "cell_type": "code",
   "execution_count": null,
   "source": [],
   "outputs": [],
   "metadata": {}
  },
  {
   "cell_type": "markdown",
   "source": [
    "## Stage Three: \r\n",
    "\r\n",
    "Use \"group by\" to break down at least two different subsets of data"
   ],
   "metadata": {}
  },
  {
   "cell_type": "code",
   "execution_count": null,
   "source": [],
   "outputs": [],
   "metadata": {}
  },
  {
   "cell_type": "markdown",
   "source": [
    "## Stage Four: \r\n",
    "\r\n",
    "Plot a comparison between the grouped data (this will be easiest over time)"
   ],
   "metadata": {}
  },
  {
   "cell_type": "code",
   "execution_count": null,
   "source": [],
   "outputs": [],
   "metadata": {}
  },
  {
   "cell_type": "markdown",
   "source": [
    "## Stage Five:\r\n",
    "\r\n",
    "Use one additional form of analysis or visualization from any we've tried so far"
   ],
   "metadata": {}
  },
  {
   "cell_type": "code",
   "execution_count": null,
   "source": [],
   "outputs": [],
   "metadata": {}
  },
  {
   "cell_type": "markdown",
   "source": [
    "## Bonus Stage:\r\n",
    "\r\n",
    "Use one additional visualization\r\n",
    "\r\n"
   ],
   "metadata": {}
  },
  {
   "cell_type": "code",
   "execution_count": null,
   "source": [],
   "outputs": [],
   "metadata": {}
  }
 ],
 "metadata": {
  "orig_nbformat": 4,
  "language_info": {
   "name": "python",
   "version": "3.8.8",
   "mimetype": "text/x-python",
   "codemirror_mode": {
    "name": "ipython",
    "version": 3
   },
   "pygments_lexer": "ipython3",
   "nbconvert_exporter": "python",
   "file_extension": ".py"
  },
  "kernelspec": {
   "name": "python3",
   "display_name": "Python 3.8.8 64-bit ('base': conda)"
  },
  "interpreter": {
   "hash": "598d64e08a06bfba065a99698ec5bbec753236817de80e4f3bcf221574aa140c"
  }
 },
 "nbformat": 4,
 "nbformat_minor": 2
}