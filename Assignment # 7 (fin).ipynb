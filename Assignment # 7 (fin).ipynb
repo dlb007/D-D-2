{
 "cells": [
  {
   "cell_type": "markdown",
   "metadata": {},
   "source": [
    "# Exercise Seven: Textual Analysis\n",
    "\n",
    "In this exercise, I took the subheadings supplied to help organize and format, code, and draw inspiration and support from the referred text to continue the documented notebook to bring in viable and researchable textual analysis toward the strength of a collection of written texts (aka multi-document corpus).\n",
    "\n",
    "In this weeks journey, the workflow explored the focuses below:\n",
    "\n",
    "- (Stage #1) Import at least three documents you would like to compare (from text files, or using another format for a challenge.)\n",
    "- (Stage #2) Preprocess the text and create a tokenized corpus from the text of the imported documents.\n",
    "- (Stage #3) Create a document term matrix to enable comparative textual analysis across the full set of documents\n",
    "- (Stage #4) Chart at least one comparison between the documents, using word frequency to map the text\n",
    "- (Stage #5) Calculate the Euclidean distance between the documents, using two key words as the point of comparison\n",
    "- As a (Bonus Challenge), consider trying one of the other types of distance modeling described in the text.)\n",
    "\n"
   ]
  },
  {
   "cell_type": "markdown",
   "metadata": {},
   "source": [
    "## Stage One - Import at least three documents you would like to compare (from text files, or using another format for a challenge.)\n",
    "\n",
    "I went into the referenced resource (Project Gutenberg) presented in class and started to explore.  Using a search of just film, I was able to come across many inviting titles to use to fulfill a viable area of reference for enhancing and expanding upon my notebook, such as the \"Twelve Stories and a Dream\" of H.G. Wells to Night of the Living Dead of George A. Romero, both of which just from their titles granted immediate interest due to the upcoming holiday and to their established notoriety as film influencers. The code direction below allowed the resources to become organized alphabetically and logged into the project using shortened titles from the .txt files downloaded. To name the documents, I was drawn to using interest in unique words and text. And with the use of OS or observational conversation tool, I decided to streamline down to just seven titles from 16 to help the visualizer within this portal become more presentable and streamlined by navigating between them toward the interest of film topics and subjects found within the folder housing the collection of .txt files.\n",
    "\n",
    "- Behind the Screen (behind.txt)\n",
    "- The Moving Picture Boys on the War Front (boys.txt)\n",
    "- The Film of Fear (fear.txt)\n",
    "- Night of the Living Dead (living.txt)\n",
    "- The Film Mystery (mystery.txt)\n",
    "- A Camera Actress in the Wilds of Togoland (togoland.txt)\n",
    "- Twelve Stories and a Dream (wells.txt)\n"
   ]
  },
  {
   "cell_type": "code",
   "execution_count": 49,
   "metadata": {},
   "outputs": [
    {
     "name": "stdout",
     "output_type": "stream",
     "text": [
      "behind.txt\n",
      "boys.txt\n",
      "fear.txt\n",
      "living.txt\n",
      "mystery.txt\n",
      "togoland.txt\n",
      "wells.txt\n",
      "boys.txt\n",
      "﻿The Project Gutenberg EBook of The Moving Picture Boys on the War Front, by \n",
      "Victor Appleton\n",
      "\n",
      "This \n"
     ]
    }
   ],
   "source": [
    "import nltk\n",
    "import nltk.tokenize\n",
    "\n",
    "# download the most recent punkt package\n",
    "nltk.download('punkt', quiet=True)\n",
    "\n",
    "import os\n",
    "documents = []\n",
    "titles =[]\n",
    "path = 'Films/'\n",
    "with os.scandir(path) as entries:\n",
    "    for entry in entries:\n",
    "        print(entry.name)\n",
    "        f = open(f'{path}\\{entry.name}',encoding='utf-8')\n",
    "        text = f.read()\n",
    "        documents.append(text)\n",
    "        titles.append(entry.name)\n",
    "print(titles[1])\n",
    "print(documents[1][0:100])"
   ]
  },
  {
   "cell_type": "markdown",
   "metadata": {},
   "source": [
    "## Stage Two - Preprocess the text and create a tokenized corpus from the text of the imported documents\n",
    "\n",
    "\n",
    "The process attained with this segmented coding helped remove repetitions of punctuation distractions by filtration of \"non-punctuation tokens\" (Karsdopp, Kestemont, Riddell 84).  Where implementing the function code of PUNCT_RE = re.compile(), enabled for identificational aspects geared toward seeing if an \"input string is either a single punctuation marker or a sequence\" (84). Accompanied with the use of [^\\w\\s]+$, it ensures that \"a string is only matched if it solely consists of punctuation characters\" (84).  Lastly, utilizing  is_punct(string) guided the process by identifying that non-punctuation tokens could be utilized toward success by incorporating a loop/list. Which interestingly ended with a print(tokenized[0][11]) as presented united. All of this brings us back to the tokenized vocabulary benefits of establishing a viable dictionary to explore and use."
   ]
  },
  {
   "cell_type": "code",
   "execution_count": 50,
   "metadata": {},
   "outputs": [
    {
     "name": "stdout",
     "output_type": "stream",
     "text": [
      "this\n"
     ]
    }
   ],
   "source": [
    "import re\n",
    "PUNCT_RE = re.compile(r'[^\\w\\s]+$')\n",
    "\n",
    "def is_punct(string):\n",
    "    \"\"\"Check if STRING is a punctuation marker or a sequence of\n",
    "       punctuation markers.\n",
    "    \"\"\"\n",
    "    return PUNCT_RE.match(string) is not None\n",
    "def preprocess_text(text, language, lowercase=True):\n",
    "    \"\"\"Preprocess a text.\n",
    "\n",
    "    Perform a text preprocessing procedure, which transforms a string\n",
    "    object into a list of word tokens without punctuation markers.\n",
    "\n",
    "    \"\"\"\n",
    "    if lowercase:\n",
    "        text = text.lower()\n",
    "    tokens = nltk.tokenize.word_tokenize(text, language=language)\n",
    "    tokens = [token for token in tokens if not is_punct(token)]\n",
    "    return tokens\n",
    "tokenized = []\n",
    "for text in documents:\n",
    "    tokenized.append(preprocess_text(text, \"english\"))\n",
    "\n",
    "print(tokenized[0][11])"
   ]
  },
  {
   "cell_type": "markdown",
   "metadata": {},
   "source": [
    "## Stage Three: Create a document term matrix to enable comparative textual analysis across the full set of documents\n",
    "\n",
    "Bringing in a document term matrix enabled a viable mode of textual analysis that would represent a reason and expansion through the entire listed and introduced data attained to have an opportunity to be compared correctly and openly, as a whole set. Enveloping the format to use the function code of extract_vocabulary() enables a concise way to extract components included in the vocabulary of \"a tokenized corpus given a minimum and a  maximum frequency count\" (Karsdopp, Kestemont, Riddell 87). This coded use helps the amount and size be put through a filter to reduce using finding locational thresholds and allowances of code, which prepares our dictionary of choice to become counted within use or appearance of words presented."
   ]
  },
  {
   "cell_type": "code",
   "execution_count": 51,
   "metadata": {},
   "outputs": [
    {
     "name": "stdout",
     "output_type": "stream",
     "text": [
      "[\"'_i_\", \"'ad\", \"'ail\", \"'and\", \"'ands\", \"'ardly\", \"'arf\", \"'arf-crowns\", \"'as-is\", \"'at\", \"'ave\", \"'black\", \"'boo\", \"'bus\", \"'but\", \"'certainly\", \"'come\", \"'d\", \"'eard\", \"'eart\", \"'em\", \"'er\", \"'ere\", \"'fan\", \"'here\", \"'if\", \"'im\", \"'ims\", \"'ired\", \"'is\", \"'it\", \"'lark\", \"'life\", \"'ll\", \"'m\", \"'macaroni\", \"'mar\", \"'miss\", \"'movie\", \"'my\", \"'no\", \"'not\", \"'ole\", \"'olidays\", \"'ome\", \"'orse\", \"'ouse\", \"'ow\", \"'phone\", \"'poetry\", \"'re\", \"'s\", \"'that\", \"'the\", \"'there\", \"'they\", \"'thou\", \"'treasure\", \"'uff\", \"'undreds\", \"'varsity\", \"'ve\", \"'well\", \"'what\", \"'why\", \"'yes\", \"'you\", '//gutenberg.org/license', '//pglaf.org', '//pglaf.org/donate', '//pglaf.org/fundraising', '//www.gutenberg.org', '//www.gutenberg.org/fundraising/donate', '//www.pgdp.net', '//www.pglaf.org', '1', '1.', '1.a', '1.b', '1.c', '1.d', '1.e', '1.e.1', '1.e.2', '1.e.3', '1.e.4', '1.e.5', '1.e.6', '1.e.7', '1.e.8', '1.e.9', '1.f', '1.f.1', '1.f.2', '1.f.3', '1.f.4', '1.f.5', '1.f.6', '10', '10.']\n"
     ]
    }
   ],
   "source": [
    "def extract_vocabulary(tokenized_corpus, min_count=1, max_count=float('inf')):\n",
    "    \"\"\"Extract a vocabulary from a tokenized corpus.\n",
    "\n",
    "    Arguments:\n",
    "        tokenized_corpus (list): a tokenized corpus represented, list\n",
    "            of lists of strings.\n",
    "        min_count (int, optional): the minimum occurrence count of a\n",
    "            vocabulary item in the corpus.\n",
    "        max_count (int, optional): the maximum occurrence count of a\n",
    "            vocabulary item in the corpus. Defaults to inf.\n",
    "\n",
    "    Returns:\n",
    "        list: An alphabetically ordered list of unique words in the\n",
    "            corpus, of which the frequencies adhere to the specified\n",
    "            minimum and maximum count.\n",
    "\n",
    "    Examples:\n",
    "        >>> corpus = [['the', 'man', 'love', 'man', 'the'],\n",
    "                      ['the', 'love', 'book', 'wise', 'drama'],\n",
    "                      ['a', 'story', 'book', 'drama']]\n",
    "        >>> extract_vocabulary(corpus, min_count=2)\n",
    "        ['book', 'drama', 'love', 'man', 'the']\n",
    "\n",
    "    \"\"\"\n",
    "    vocabulary = collections.Counter()\n",
    "    for document in tokenized_corpus:\n",
    "        vocabulary.update(document)\n",
    "    vocabulary = {word for word, count in vocabulary.items()\n",
    "                  if count >= min_count and count <= max_count}\n",
    "    return sorted(vocabulary)\n",
    "import collections\n",
    "vocabulary = extract_vocabulary(tokenized, min_count=2)\n",
    "print(vocabulary[0:100])\n",
    "\n",
    "def corpus2dtm(tokenized_corpus, vocabulary):\n",
    "    \"\"\"Transform a tokenized corpus into a document-term matrix.\n",
    "\n",
    "    Arguments:\n",
    "        tokenized_corpus (list): a tokenized corpus as a list of\n",
    "        lists of strings. vocabulary (list): An list of unique words.\n",
    "\n",
    "    Returns:\n",
    "        list: A list of lists representing the frequency of each term\n",
    "              in `vocabulary` for each document in the corpus.\n",
    "\n",
    "    Examples:\n",
    "        >>> tokenized_corpus = [['the', 'man', 'man', 'smart'],\n",
    "                                ['a', 'the', 'man' 'love'],\n",
    "                                ['love', 'book', 'journey']]\n",
    "        >>> vocab = ['book', 'journey', 'man', 'love']\n",
    "        >>> corpus2dtm(tokenized_corpus, vocabulary)\n",
    "        [[0, 0, 2, 0], [0, 0, 1, 1], [1, 1, 0, 1]]\n",
    "\n",
    "    \"\"\"\n",
    "    document_term_matrix = []\n",
    "    for document in tokenized_corpus:\n",
    "        document_counts = collections.Counter(document)\n",
    "        row = [document_counts[word] for word in vocabulary]\n",
    "        document_term_matrix.append(row)\n",
    "    return document_term_matrix\n",
    "\n",
    "import numpy as np\n",
    "\n",
    "document_term_matrix = np.array(corpus2dtm(tokenized, vocabulary))"
   ]
  },
  {
   "cell_type": "markdown",
   "metadata": {},
   "source": [
    "## Stage Four: Chart at least one comparison between the documents, using word frequency to map the text\n",
    "\n",
    "Once Stage Three is found and accomplished, I was able to find frequency within the word account areas of the referenced .txt files established previously within the study. Helping to reveal a visual comparison accompanied by word frequencies to help map the text, Python's use of data structure \"only records distinct elements,\" which brings on the identification of \"all words appearing in it are unique.\" Similarly,  we could construct a vocabulary which excludes the n most\" (Karsdopp, Kestemont, Riddell 87). And since use was enabled within three genres, with the code formation of tr_means = document_term_matrix[genres == 'they'].mean(axis=0), the journey became visual in a sense to enable it to become scaled within the chart (96). "
   ]
  },
  {
   "cell_type": "code",
   "execution_count": 52,
   "metadata": {},
   "outputs": [
    {
     "name": "stdout",
     "output_type": "stream",
     "text": [
      "Actress: [604  28 861   0 357 102 314]\n",
      "Actor: [ 602  569  838    2 1171  629 1568]\n",
      "Cast: [116 562 177   3 157 454 292]\n"
     ]
    },
    {
     "data": {
      "image/png": "[encoded data removed]",
      "text/plain": [
       "<Figure size 432x288 with 1 Axes>"
      ]
     },
     "metadata": {
      "needs_background": "light"
     },
     "output_type": "display_data"
    }
   ],
   "source": [
    "actress_id = vocabulary.index('she')\n",
    "actor_id = vocabulary.index('he')\n",
    "cast_id = vocabulary.index('they')\n",
    "\n",
    "actress_counts = document_term_matrix[:, actress_id]\n",
    "actor_counts = document_term_matrix[:, actor_id]\n",
    "cast_counts = document_term_matrix[:, cast_id]\n",
    "print(\"Actress: \" + str(actress_counts))\n",
    "print(\"Actor: \" + str(actor_counts))\n",
    "print(\"Cast: \" + str(cast_counts))\n",
    "import matplotlib.pyplot as plt\n",
    "\n",
    "x = np.arange(len(titles))\n",
    "width = 1/(len(titles))\n",
    "\n",
    "fig, ax = plt.subplots()\n",
    "rects1 = ax.bar(x - width, actress_counts, width, label='Actress')\n",
    "rects2 = ax.bar(x, actor_counts, width, label='Actor')\n",
    "rects3 = ax.bar(x + width, cast_counts, width, label='Cast')\n",
    "\n",
    "\n",
    "ax.set_ylabel('Word Count')\n",
    "ax.set_title(' Film Terms Frequency')\n",
    "ax.set_xticks(x)\n",
    "ax.set_xticklabels(titles)\n",
    "ax.legend()\n",
    "\n",
    "fig.tight_layout()\n",
    "\n",
    "plt.show()"
   ]
  },
  {
   "cell_type": "markdown",
   "metadata": {},
   "source": [
    "## Stage Five: Calculate the Euclidean distance between the documents, using two key words as the point of comparison\n",
    "\n",
    "Note: Nested four-loop compares and helps to avoid redundancy (loop logic solutions).\n",
    "\n",
    "Euclidean distance's use allows for \"calculating the distance between two documents in a space, ... looks at the exact coordinates of the two documents: it connects them with a straight line, ...and returns the length of that line\" (Karsdopp, Kestemont, Riddell 100). As a result, the comparisons or calculated distances between supplied .txt brought interest and allowed comparisons to take place."
   ]
  },
  {
   "cell_type": "code",
   "execution_count": 53,
   "metadata": {},
   "outputs": [
    {
     "name": "stdout",
     "output_type": "stream",
     "text": [
      "behind.txt vs boys.txt: 447.21918563496354\n",
      "behind.txt vs fear.txt: 243.75602556654883\n",
      "behind.txt vs living.txt: 610.5481144021329\n",
      "behind.txt vs mystery.txt: 570.4752404793744\n",
      "behind.txt vs togoland.txt: 339.0766874911928\n",
      "behind.txt vs wells.txt: 981.902235459315\n",
      "boys.txt vs fear.txt: 469.6658386555275\n",
      "boys.txt vs living.txt: 796.2223307594431\n",
      "boys.txt vs mystery.txt: 725.5542708853694\n",
      "boys.txt vs togoland.txt: 123.54756169184401\n",
      "boys.txt vs wells.txt: 1034.8434664237873\n",
      "fear.txt vs living.txt: 853.9156867044895\n",
      "fear.txt vs mystery.txt: 333.600059952033\n",
      "fear.txt vs togoland.txt: 347.0014409191985\n",
      "fear.txt vs wells.txt: 739.0027063549903\n",
      "living.txt vs mystery.txt: 1179.1000805699234\n",
      "living.txt vs togoland.txt: 772.3535459878461\n",
      "living.txt vs wells.txt: 1592.4437195706478\n",
      "mystery.txt vs togoland.txt: 618.0396427414669\n",
      "mystery.txt vs wells.txt: 419.32564910818417\n",
      "togoland.txt vs wells.txt: 952.87197461149\n"
     ]
    }
   ],
   "source": [
    "def euclidean_distance(a, b):\n",
    "    \"\"\"Compute the Euclidean distance between two vectors.\n",
    "\n",
    "    Note: ``numpy.linalg.norm(a - b)`` performs the\n",
    "    same calculation using a slightly faster method.\n",
    "\n",
    "    Arguments:\n",
    "        a (numpy.ndarray): a vector of floats or ints.\n",
    "        b (numpy.ndarray): a vector of floats or ints.\n",
    "\n",
    "    Returns:\n",
    "        float: The euclidean distance between vector a and b.\n",
    "\n",
    "    Examples:\n",
    "        >>> import numpy as np\n",
    "        >>> a = np.array([1, 4, 2, 8])\n",
    "        >>> b = np.array([2, 1, 4, 7])\n",
    "        >>> round(euclidean_distance(a, b), 2)\n",
    "        3.87\n",
    "\n",
    "    \"\"\"\n",
    "    return np.sqrt(np.sum((a - b) ** 2))\n",
    "vectors = []\n",
    "for x in range(0, len(titles)):\n",
    "    vectors.append([cast_counts[x],actor_counts[x]])\n",
    "\n",
    "for x in range(0, len(vectors)):\n",
    "    for y in range(x+1, len(vectors)):\n",
    "        comparison = euclidean_distance(np.array(vectors[x]),np.array(vectors[y]))\n",
    "        print(f'{titles[x]} vs {titles[y]}: {comparison}')"
   ]
  },
  {
   "cell_type": "markdown",
   "metadata": {},
   "source": [
    "## Pre - Bonus Stage:\n",
    "\n",
    "Computation of a vector was introduced to enable more value within the Bonus Stage section to help choices of distant modeling, \"def vector_len(v):\" (Karsdopp, Kestemont, Riddell 99)."
   ]
  },
  {
   "cell_type": "code",
   "execution_count": 54,
   "metadata": {},
   "outputs": [],
   "source": [
    "def vector_len(v):\n",
    "    \"\"\"Compute the length (or norm) of a vector.\"\"\"\n",
    "    return np.sqrt(np.sum(v ** 2))"
   ]
  },
  {
   "cell_type": "markdown",
   "metadata": {},
   "source": [
    "# Bonus Stage: As a bonus challenge, consider trying one of the other types of distance modeling described in the text.\n",
    "\n",
    "Cosine distance \"is the well-known cosine  distance from geometry\" and differs from Euclidean distance beyond two points importance and bring forth the impact of their identities in arrows/vectors \"that find their offset in the space's origin\" (Karsdopp, Kestemont, Riddell 100). \n"
   ]
  },
  {
   "cell_type": "markdown",
   "metadata": {},
   "source": [
    "## Cosine Distance (#1)"
   ]
  },
  {
   "cell_type": "code",
   "execution_count": 55,
   "metadata": {},
   "outputs": [
    {
     "name": "stdout",
     "output_type": "stream",
     "text": [
      "actor - cast:       0.25\n",
      "actor - actress: 0.24\n",
      "cast - actress: 0.55\n"
     ]
    }
   ],
   "source": [
    "def cosine_distance(a, b):\n",
    "    \"\"\"Compute the cosine distance between two vectors.\n",
    "\n",
    "    Arguments:\n",
    "        a (numpy.ndarray): a vector of floats or ints.\n",
    "        b (numpy.ndarray): a vector of floats or ints.\n",
    "\n",
    "    Returns:\n",
    "        float: cosine distance between vector a and b.\n",
    "\n",
    "    Note:\n",
    "        See also scipy.spatial.distance.cdist\n",
    "\n",
    "    Examples:\n",
    "        >>> import numpy as np\n",
    "        >>> a = np.array([1, 4, 2, 8])\n",
    "        >>> b = np.array([2, 1, 4, 7])\n",
    "        >>> round(cosine_distance(a, b), 2)\n",
    "        0.09\n",
    "\n",
    "    \"\"\"\n",
    "    return 1 - np.dot(a, b) / (vector_len(a) * vector_len(b))\n",
    "\n",
    "\n",
    "# %%\n",
    "tc = cosine_distance(actor_counts, cast_counts)\n",
    "print(f'actor - cast:       {tc:.2f}')\n",
    "\n",
    "ttc = cosine_distance(actor_counts, actress_counts)\n",
    "print(f'actor - actress: {ttc:.2f}')\n",
    "\n",
    "ctc = cosine_distance(cast_counts, actress_counts)\n",
    "print(f'cast - actress: {ctc:.2f}')"
   ]
  },
  {
   "cell_type": "markdown",
   "metadata": {},
   "source": [
    "## Cosine Distance (#2)"
   ]
  },
  {
   "cell_type": "code",
   "execution_count": 56,
   "metadata": {},
   "outputs": [
    {
     "name": "stdout",
     "output_type": "stream",
     "text": [
      "actor - cast:       0.25\n",
      "actor - actress: 0.24\n",
      "cast - actress: 0.55\n"
     ]
    }
   ],
   "source": [
    "# %%\n",
    "def cosine_distance(a, b):\n",
    "    \"\"\"Compute the cosine distance between two vectors.\n",
    "\n",
    "    Arguments:\n",
    "        a (numpy.ndarray): a vector of floats or ints.\n",
    "        b (numpy.ndarray): a vector of floats or ints.\n",
    "\n",
    "    Returns:\n",
    "        float: cosine distance between vector a and b.\n",
    "\n",
    "    Note:\n",
    "        See also scipy.spatial.distance.cdist\n",
    "\n",
    "    Examples:\n",
    "        >>> import numpy as np\n",
    "        >>> a = np.array([1, 4, 2, 8])\n",
    "        >>> b = np.array([2, 1, 4, 7])\n",
    "        >>> round(cosine_distance(a, b), 2)\n",
    "        0.09\n",
    "\n",
    "    \"\"\"\n",
    "    \n",
    "    return 1 - np.dot(a, b) / (vector_len(a) * vector_len(b))\n",
    "\n",
    "\n",
    "# %%\n",
    "tc = cosine_distance(actor_counts, cast_counts)\n",
    "print(f'actor - cast:       {tc:.2f}')\n",
    "\n",
    "ttc = cosine_distance(actor_counts, actress_counts)\n",
    "print(f'actor - actress: {ttc:.2f}')\n",
    "\n",
    "ctc = cosine_distance(cast_counts, actress_counts)\n",
    "print(f'cast - actress: {ctc:.2f}')\n"
   ]
  },
  {
   "cell_type": "markdown",
   "metadata": {},
   "source": [
    "## City Block Distance\n",
    "\n",
    "City block distance (aka Manhattan distance/L1 distance) \"is a metric which computes the distance between two  points in space as the sum of the absolute differences of their coordinates in  space\" (Karsdopp, Kestemont, Riddell 102). In this code example, I \"plotted the individual paths between the data  points\" (104). and even though it is not used that frequently in text analysis, it \"is a well-known distance function whose \"inner workings\" are not too hard to understand\" (105). "
   ]
  },
  {
   "cell_type": "code",
   "execution_count": 57,
   "metadata": {},
   "outputs": [],
   "source": [
    "def city_block_distance(a, b):\n",
    "    \"\"\"Compute the city block distance between two vectors.\n",
    "\n",
    "    Arguments:\n",
    "        a (numpy.ndarray): a vector of floats or ints.\n",
    "        b (numpy.ndarray): a vector of floats or ints.\n",
    "\n",
    "    Returns:\n",
    "        {int, float}: The city block distance between vector a and b.\n",
    "\n",
    "    Examples:\n",
    "        >>> import numpy as np\n",
    "        >>> a = np.array([1, 4, 2, 8])\n",
    "        >>> b = np.array([2, 1, 4, 7])\n",
    "        >>> city_block_distance(a, b)\n",
    "        7\n",
    "\n",
    "    \"\"\"\n",
    "    return np.abs(a - b).sum()"
   ]
  },
  {
   "cell_type": "code",
   "execution_count": 58,
   "metadata": {},
   "outputs": [
    {
     "name": "stdout",
     "output_type": "stream",
     "text": [
      "cast - actor: 1833.08\n",
      "cast - actress: 1074.97\n",
      "actor - actress: 1675.13\n"
     ]
    }
   ],
   "source": [
    "tc = euclidean_distance(actor_counts, cast_counts)  \n",
    "print(f'cast - actor: {tc:.2f}')  \n",
    "\n",
    "ttc = euclidean_distance(they_counts, girl_counts)  \n",
    "print(f'cast - actress: {ttc:.2f}') \n",
    "\n",
    "ctc = euclidean_distance(boy_counts, girl_counts) \n",
    "print(f'actor - actress: {ctc:.2f}') \n"
   ]
  }
 ],
 "metadata": {
  "interpreter": {
   "hash": "598d64e08a06bfba065a99698ec5bbec753236817de80e4f3bcf221574aa140c"
  },
  "kernelspec": {
   "display_name": "Python 3.8.11 64-bit ('base': conda)",
   "name": "python3"
  },
  "language_info": {
   "codemirror_mode": {
    "name": "ipython",
    "version": 3
   },
   "file_extension": ".py",
   "mimetype": "text/x-python",
   "name": "python",
   "nbconvert_exporter": "python",
   "pygments_lexer": "ipython3",
   "version": "3.8.11"
  },
  "orig_nbformat": 4
 },
 "nbformat": 4,
 "nbformat_minor": 2
}
