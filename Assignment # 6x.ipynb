{
 "cells": [
  {
   "cell_type": "markdown",
   "source": [
    "# Exercise Six: Structured Data with Beautiful Soup and Pandas\r\n",
    "\r\n",
    "For this example of the completed exercise, I implemented the bonus stage to iterate through multiple pages. Note that this is not the \"final form\" solution - ideally, we would first scrape all the names from the main page in the journalg, and use that to construct all of the URLs to pull a more robust dataset for analysis. Consider trying that expansion on your own.\r\n",
    "\r\n",
    "This example will:\r\n",
    "\r\n",
    "    - Grab the content from several articles in Digital Humanities Quarterly\r\n",
    "    - Demonstrate some ways of visualizing this type of data\r\n",
    "    - Save a visualization of an interesting element"
   ],
   "metadata": {}
  },
  {
   "cell_type": "markdown",
   "source": [
    "## Stage One - Import the libraries and Scrape Structured Data from Multiple Pages¶\r\n",
    "\r\n",
    "For the bonus exercise, I've combined stage one with the original stage two and three. This allows for more easily scraping the structured data from each page, and gives us content to visualize and compare. Unlike the reviews, where each page contained multiple elements, this structure treats every page (article) as an entity."
   ],
   "metadata": {}
  },
  {
   "cell_type": "code",
   "execution_count": 44,
   "source": [
    "#import libraries and set up the scraping target\r\n",
    "import requests\r\n",
    "from bs4 import BeautifulSoup\r\n",
    "import pandas as pd\r\n",
    "\r\n",
    "urls = ['http://digitalhumanities.org:8081/dhq/vol/14/4/000499/000499.html', 'http://digitalhumanities.org:8081/dhq/vol/14/4/000532/000532.html','http://digitalhumanities.org:8081/dhq/vol/14/4/000518/000518.html','http://digitalhumanities.org:8081/dhq/vol/14/4/000498/000498.html','http://digitalhumanities.org:8081/dhq/vol/14/4/000518/000518.html','http://digitalhumanities.org:8081/dhq/vol/14/4/000497/000497.html','http://digitalhumanities.org:8081/dhq/vol/14/4/000495/000495.html']\r\n",
    "\r\n",
    "user_agent = {'User-agent': 'Mozilla/5.0'}"
   ],
   "outputs": [],
   "metadata": {}
  },
  {
   "cell_type": "markdown",
   "source": [
    "## Stage Two: Define an Empty Dictionary Reflecting the Data Categories"
   ],
   "metadata": {}
  },
  {
   "cell_type": "code",
   "execution_count": 45,
   "source": [
    "# define the empty dictionary based on properties usually included in an article\r\n",
    "\r\n",
    "article_dict = {'title':[], 'first_author':[], 'issue':[], 'abstract':[]}"
   ],
   "outputs": [],
   "metadata": {}
  },
  {
   "cell_type": "markdown",
   "source": [
    "## Stage Three: Loop through and Store Structured Data"
   ],
   "metadata": {}
  },
  {
   "cell_type": "code",
   "execution_count": 46,
   "source": [
    "#scrape the structured content and add to the articles dictionary, looping through each url\r\n",
    "for url in urls:\r\n",
    "\r\n",
    "    response = requests.get(url, headers = user_agent)\r\n",
    "    article = BeautifulSoup(response.text, 'html.parser')\r\n",
    "\r\n",
    "    article_dict['title'].append(article.find('h1', class_='articleTitle lang en').text)\r\n",
    "    article_dict['first_author'].append(article.find('div', class_='author').find('a').text)\r\n",
    "    article_dict['issue'].append(article.find('div', class_='toolbar').find('a').text)\r\n",
    "    article_dict['abstract'].append(article.find('div', id='abstract').find('p').text)\r\n",
    "    \r\n",
    "print(article_dict['title'])\r\n",
    "print(article_dict['first_author'])\r\n",
    "print(article_dict['issue'])\r\n",
    "print(article_dict['abstract'])"
   ],
   "outputs": [
    {
     "output_type": "stream",
     "name": "stdout",
     "text": [
      "['The Voices of Doctor Who â\\x80\\x93 How Stylometry Can be\\n               Useful in Revealing New Information About TV Series', 'Film and Video Analysis in the Digital Humanities â\\x80\\x93\\n               An Interdisciplinary Dialog', 'Automated Visual Content Analysis for Film Studies:\\n               Current Status and Challenges', 'The Stylometry of Film Dialogue: Pros and\\n               Pitfalls', 'Automated Visual Content Analysis for Film Studies:\\n               Current Status and Challenges', 'Exploring Digitised Moving Image Collections: The\\n               SEMIA Project, Visual Analysis and the Turn to Abstraction', 'The Phenomenon of Interwar City\\n                              Symphonies: A Combined Methodology of Digital Tools and Traditional\\n                              Film Analysis Methods to Study Visual Motifs and Structural Patterns\\n                              of Experimental-Documentary City Films']\n",
      "['Joanna Byszuk\\n               ', 'Manuel Burghardt\\n               ', 'Kader Pustu-Iren\\n               ', 'Agata HoÅ\\x82obut\\n               ', 'Kader Pustu-Iren\\n               ', 'Eef Masson\\n               ', 'Eva Hielscher\\n                              ']\n",
      "['2020 14.4', '2020 14.4', '2020 14.4', '2020 14.4', '2020 14.4', '2020 14.4', '2020 14.4']\n",
      "['This article presents possibilities of effectively using stylometric methods popular\\n               in the analysis of literary texts in the study of texts written for television, on\\n               the example of Doctor Who. The article examines the changes driving the development\\n               of the show moving from character-oriented in the so-called â\\x80\\x9cClassic Whoâ\\x80\\x9d\\n               (1963-1989) to showrunner-oriented in its revival started in 2005. It also seeks to\\n               describe stability of the characterization of the protagonist as evidenced in the\\n               dialogues, and to discuss authorial relations between showrunners and their teams.', 'This editorial introduces the special issue on â\\x80\\x9cDigital Humanities & Film Studies: Analyzing the Modalities of Moving Images,â\\x80\\x9d which contains a total of eight exciting contributions. Moreover, this editorial aims to highlight the complementary disciplinary perspectives on the computer-aided analysis of moving images, which are important prerequisites to better understand and situate a common DH perspective', 'Lots of approaches for automated video analysis have been suggested since the\\n               1990ies, which have the potential to support quantitative and qualitative analysis in\\n               film studies. However, software solutions for the scholarly study of film that\\n               utilise video analysis algorithms are still relatively rare. In this paper, we aim to\\n               provide an overview of related work in this field, review current developments in\\n               computer vision, compare machine and human performance for some visual recognition\\n               tasks, and outline the requirements for video analysis software that would optimally\\n               support scholars of film studies.', 'We examine film dialogue with quantitative textual analysis (stylometry, sentiment\\n               analysis, distant reading). Working with transcribed dialogue in almost 300\\n               productions, we explore the complex way in which most-frequent-words-based stylometry\\n               and lexicon-based sentiment analysis produce patterns of similarity and difference\\n               between screenwriters and/or a priori IMDB-defined genres. In fact, some of our\\n               results show that counting and comparing very frequent word lists reveals further\\n               similarities: of theme, implied audience, stylistic patternings. The results are\\n               encouraging enough to suggest that such quantitative approach to film dialogue may\\n               become a welcome addition to the arsenal of film studies methodology. ', 'Lots of approaches for automated video analysis have been suggested since the\\n               1990ies, which have the potential to support quantitative and qualitative analysis in\\n               film studies. However, software solutions for the scholarly study of film that\\n               utilise video analysis algorithms are still relatively rare. In this paper, we aim to\\n               provide an overview of related work in this field, review current developments in\\n               computer vision, compare machine and human performance for some visual recognition\\n               tasks, and outline the requirements for video analysis software that would optimally\\n               support scholars of film studies.', 'In recent years, efforts to unlock digitized moving image collections have focused\\n               primarily on the retrieval of collection items through semantic descriptors: keywords\\n               or other labels produced either manually, or as (semi-)automatically generated\\n               metadata. As a result, access to digital archives is still governed overwhelmingly by\\n               a logic of search. In practice, this means that users not only need to know what they\\n               are looking for, but are also constrained by the interpretive frameworks informing\\n               the materialsâ\\x80\\x99 labelling. Arguably, this poses restrictions on what they can find,\\n               how they can interrelate collection objects, and ultimately, how they can reuse or\\n               reinterpret collections. Taking such issues as its starting point, the Sensory Moving Image Archive project (SEMIA) investigated\\n               how visual analysis tools can help enable more exploratory forms of engaging with\\n               digital archives. In doing so, it focused on sensory features, which are essential to\\n               usersâ\\x80\\x99 experiences of audiovisual heritage objects but inadequately captured by\\n               verbal description.', 'The 1920s and 1930s saw the rise of the city symphony, a film phenomenon\\n                              of experimental-documentary city films that took the modern metropolis\\n                              as their protagonist and presented it in its multiple facets and\\n                              kaleidoscopic nature. While Ruttmannâ\\x80\\x99s Berlin. Die Sinfonie der\\n                                    Grosstadt (1927) and Vertovâ\\x80\\x99s Chelovek s kinoapparatom (1929) gained canonical status\\n                              and exert a considerable influence on filmmaking to this very day, the\\n                              city symphony has remained a somewhat downplayed and neglected\\n                              phenomenon in film history. Indeed, besides the handful of well-known\\n                              titles, there have been more than eighty films made around the globe,\\n                              many of which fell into oblivion and have received little or no\\n                              scholarly attention at all. Moreover, even the canonical examples have\\n                              never systematically and structurally been analyzed in detail in a\\n                              comparative way. The result is the lack of a sophisticated and clear\\n                              definition of the city symphony, based on both the canonical films and\\n                              the greater city symphony corpus. My research sets in at this point,\\n                              addressing the conspicuous absence of an analysis of city symphony\\n                              characteristics. It does so by making use of a combined methodology of\\n                              traditional film analysis methods and digital tools. This article\\n                              reflects on the methodology applied and tools chosen and put into\\n                              practice to study and analyze the visual material of city symphonies,\\n                              which with their highly complex structure, dense imagery, and themes\\n                              as well as their experimental techniques and striking editing\\n                              patterns, are a perfect fit for a computational film analysis.\\n                              Particularly, the digital film/video annotation software ELAN, the\\n                              Cinemetrics method, a bar chart representation of shot lengths, and\\n                              the grid visualizations of multiple film frames created with ImageJ\\n                              play a role in this case study, which also broaches the aspect and\\n                              benefits of manual digital analysis.']\n"
     ]
    }
   ],
   "metadata": {}
  },
  {
   "cell_type": "markdown",
   "source": [
    "## Stage Four: Convert from Dictionary to DataFrame and Display¶"
   ],
   "metadata": {}
  },
  {
   "cell_type": "code",
   "execution_count": 47,
   "source": [
    "articles = pd.DataFrame(article_dict)\r\n",
    "pd.set_option(\"display.max_colwidth\", None)\r\n",
    "\r\n",
    "articles"
   ],
   "outputs": [
    {
     "output_type": "execute_result",
     "data": {
      "text/html": [
       "<div>\n",
       "<style scoped>\n",
       "    .dataframe tbody tr th:only-of-type {\n",
       "        vertical-align: middle;\n",
       "    }\n",
       "\n",
       "    .dataframe tbody tr th {\n",
       "        vertical-align: top;\n",
       "    }\n",
       "\n",
       "    .dataframe thead th {\n",
       "        text-align: right;\n",
       "    }\n",
       "</style>\n",
       "<table border=\"1\" class=\"dataframe\">\n",
       "  <thead>\n",
       "    <tr style=\"text-align: right;\">\n",
       "      <th></th>\n",
       "      <th>title</th>\n",
       "      <th>first_author</th>\n",
       "      <th>issue</th>\n",
       "      <th>abstract</th>\n",
       "    </tr>\n",
       "  </thead>\n",
       "  <tbody>\n",
       "    <tr>\n",
       "      <th>0</th>\n",
       "      <td>The Voices of Doctor Who â How Stylometry Can be\\n               Useful in Revealing New Information About TV Series</td>\n",
       "      <td>Joanna Byszuk\\n</td>\n",
       "      <td>2020 14.4</td>\n",
       "      <td>This article presents possibilities of effectively using stylometric methods popular\\n               in the analysis of literary texts in the study of texts written for television, on\\n               the example of Doctor Who. The article examines the changes driving the development\\n               of the show moving from character-oriented in the so-called âClassic Whoâ\\n               (1963-1989) to showrunner-oriented in its revival started in 2005. It also seeks to\\n               describe stability of the characterization of the protagonist as evidenced in the\\n               dialogues, and to discuss authorial relations between showrunners and their teams.</td>\n",
       "    </tr>\n",
       "    <tr>\n",
       "      <th>1</th>\n",
       "      <td>Film and Video Analysis in the Digital Humanities â\\n               An Interdisciplinary Dialog</td>\n",
       "      <td>Manuel Burghardt\\n</td>\n",
       "      <td>2020 14.4</td>\n",
       "      <td>This editorial introduces the special issue on âDigital Humanities &amp; Film Studies: Analyzing the Modalities of Moving Images,â which contains a total of eight exciting contributions. Moreover, this editorial aims to highlight the complementary disciplinary perspectives on the computer-aided analysis of moving images, which are important prerequisites to better understand and situate a common DH perspective</td>\n",
       "    </tr>\n",
       "    <tr>\n",
       "      <th>2</th>\n",
       "      <td>Automated Visual Content Analysis for Film Studies:\\n               Current Status and Challenges</td>\n",
       "      <td>Kader Pustu-Iren\\n</td>\n",
       "      <td>2020 14.4</td>\n",
       "      <td>Lots of approaches for automated video analysis have been suggested since the\\n               1990ies, which have the potential to support quantitative and qualitative analysis in\\n               film studies. However, software solutions for the scholarly study of film that\\n               utilise video analysis algorithms are still relatively rare. In this paper, we aim to\\n               provide an overview of related work in this field, review current developments in\\n               computer vision, compare machine and human performance for some visual recognition\\n               tasks, and outline the requirements for video analysis software that would optimally\\n               support scholars of film studies.</td>\n",
       "    </tr>\n",
       "    <tr>\n",
       "      <th>3</th>\n",
       "      <td>The Stylometry of Film Dialogue: Pros and\\n               Pitfalls</td>\n",
       "      <td>Agata HoÅobut\\n</td>\n",
       "      <td>2020 14.4</td>\n",
       "      <td>We examine film dialogue with quantitative textual analysis (stylometry, sentiment\\n               analysis, distant reading). Working with transcribed dialogue in almost 300\\n               productions, we explore the complex way in which most-frequent-words-based stylometry\\n               and lexicon-based sentiment analysis produce patterns of similarity and difference\\n               between screenwriters and/or a priori IMDB-defined genres. In fact, some of our\\n               results show that counting and comparing very frequent word lists reveals further\\n               similarities: of theme, implied audience, stylistic patternings. The results are\\n               encouraging enough to suggest that such quantitative approach to film dialogue may\\n               become a welcome addition to the arsenal of film studies methodology.</td>\n",
       "    </tr>\n",
       "    <tr>\n",
       "      <th>4</th>\n",
       "      <td>Automated Visual Content Analysis for Film Studies:\\n               Current Status and Challenges</td>\n",
       "      <td>Kader Pustu-Iren\\n</td>\n",
       "      <td>2020 14.4</td>\n",
       "      <td>Lots of approaches for automated video analysis have been suggested since the\\n               1990ies, which have the potential to support quantitative and qualitative analysis in\\n               film studies. However, software solutions for the scholarly study of film that\\n               utilise video analysis algorithms are still relatively rare. In this paper, we aim to\\n               provide an overview of related work in this field, review current developments in\\n               computer vision, compare machine and human performance for some visual recognition\\n               tasks, and outline the requirements for video analysis software that would optimally\\n               support scholars of film studies.</td>\n",
       "    </tr>\n",
       "    <tr>\n",
       "      <th>5</th>\n",
       "      <td>Exploring Digitised Moving Image Collections: The\\n               SEMIA Project, Visual Analysis and the Turn to Abstraction</td>\n",
       "      <td>Eef Masson\\n</td>\n",
       "      <td>2020 14.4</td>\n",
       "      <td>In recent years, efforts to unlock digitized moving image collections have focused\\n               primarily on the retrieval of collection items through semantic descriptors: keywords\\n               or other labels produced either manually, or as (semi-)automatically generated\\n               metadata. As a result, access to digital archives is still governed overwhelmingly by\\n               a logic of search. In practice, this means that users not only need to know what they\\n               are looking for, but are also constrained by the interpretive frameworks informing\\n               the materialsâ labelling. Arguably, this poses restrictions on what they can find,\\n               how they can interrelate collection objects, and ultimately, how they can reuse or\\n               reinterpret collections. Taking such issues as its starting point, the Sensory Moving Image Archive project (SEMIA) investigated\\n               how visual analysis tools can help enable more exploratory forms of engaging with\\n               digital archives. In doing so, it focused on sensory features, which are essential to\\n               usersâ experiences of audiovisual heritage objects but inadequately captured by\\n               verbal description.</td>\n",
       "    </tr>\n",
       "    <tr>\n",
       "      <th>6</th>\n",
       "      <td>The Phenomenon of Interwar City\\n                              Symphonies: A Combined Methodology of Digital Tools and Traditional\\n                              Film Analysis Methods to Study Visual Motifs and Structural Patterns\\n                              of Experimental-Documentary City Films</td>\n",
       "      <td>Eva Hielscher\\n</td>\n",
       "      <td>2020 14.4</td>\n",
       "      <td>The 1920s and 1930s saw the rise of the city symphony, a film phenomenon\\n                              of experimental-documentary city films that took the modern metropolis\\n                              as their protagonist and presented it in its multiple facets and\\n                              kaleidoscopic nature. While Ruttmannâs Berlin. Die Sinfonie der\\n                                    Grosstadt (1927) and Vertovâs Chelovek s kinoapparatom (1929) gained canonical status\\n                              and exert a considerable influence on filmmaking to this very day, the\\n                              city symphony has remained a somewhat downplayed and neglected\\n                              phenomenon in film history. Indeed, besides the handful of well-known\\n                              titles, there have been more than eighty films made around the globe,\\n                              many of which fell into oblivion and have received little or no\\n                              scholarly attention at all. Moreover, even the canonical examples have\\n                              never systematically and structurally been analyzed in detail in a\\n                              comparative way. The result is the lack of a sophisticated and clear\\n                              definition of the city symphony, based on both the canonical films and\\n                              the greater city symphony corpus. My research sets in at this point,\\n                              addressing the conspicuous absence of an analysis of city symphony\\n                              characteristics. It does so by making use of a combined methodology of\\n                              traditional film analysis methods and digital tools. This article\\n                              reflects on the methodology applied and tools chosen and put into\\n                              practice to study and analyze the visual material of city symphonies,\\n                              which with their highly complex structure, dense imagery, and themes\\n                              as well as their experimental techniques and striking editing\\n                              patterns, are a perfect fit for a computational film analysis.\\n                              Particularly, the digital film/video annotation software ELAN, the\\n                              Cinemetrics method, a bar chart representation of shot lengths, and\\n                              the grid visualizations of multiple film frames created with ImageJ\\n                              play a role in this case study, which also broaches the aspect and\\n                              benefits of manual digital analysis.</td>\n",
       "    </tr>\n",
       "  </tbody>\n",
       "</table>\n",
       "</div>"
      ],
      "text/plain": [
       "                                                                                                                                                                                                                                                                                                          title  \\\n",
       "0                                                                                                                                                                                        The Voices of Doctor Who â How Stylometry Can be\\n               Useful in Revealing New Information About TV Series   \n",
       "1                                                                                                                                                                                                             Film and Video Analysis in the Digital Humanities â\\n               An Interdisciplinary Dialog   \n",
       "2                                                                                                                                                                                                             Automated Visual Content Analysis for Film Studies:\\n               Current Status and Challenges   \n",
       "3                                                                                                                                                                                                                                            The Stylometry of Film Dialogue: Pros and\\n               Pitfalls   \n",
       "4                                                                                                                                                                                                             Automated Visual Content Analysis for Film Studies:\\n               Current Status and Challenges   \n",
       "5                                                                                                                                                                                  Exploring Digitised Moving Image Collections: The\\n               SEMIA Project, Visual Analysis and the Turn to Abstraction   \n",
       "6  The Phenomenon of Interwar City\\n                              Symphonies: A Combined Methodology of Digital Tools and Traditional\\n                              Film Analysis Methods to Study Visual Motifs and Structural Patterns\\n                              of Experimental-Documentary City Films   \n",
       "\n",
       "                                    first_author      issue  \\\n",
       "0                 Joanna Byszuk\\n                 2020 14.4   \n",
       "1              Manuel Burghardt\\n                 2020 14.4   \n",
       "2              Kader Pustu-Iren\\n                 2020 14.4   \n",
       "3                Agata HoÅobut\\n                 2020 14.4   \n",
       "4              Kader Pustu-Iren\\n                 2020 14.4   \n",
       "5                    Eef Masson\\n                 2020 14.4   \n",
       "6  Eva Hielscher\\n                                2020 14.4   \n",
       "\n",
       "                                                                                                                                                                                                                                                                                                                                                                                                                                                                                                                                                                                                                                                                                                                                                                                                                                                                                                                                                                                                                                                                                                                                                                                                                                                                                                                                                                                                                                                                                                                                                                                                                                                                                                                                                                                                                                                                                                                                                                                                                                                                                                                                                                                                                                                                                                                                                                                                                                                                                                                                                                                                                                                                                                                                                                                                                                      abstract  \n",
       "0                                                                                                                                                                                                                                                                                                                                                                                                                                                                                                                                                                                                                                                                                                                                                                                                                                                                                                                                                                                                                                                                                                                                                                                                                                                                                                                                                                                                                                                                                                                                                                                                                                                                                                                                                                                                                                                                                                                                                                                                                                                                                                                                           This article presents possibilities of effectively using stylometric methods popular\\n               in the analysis of literary texts in the study of texts written for television, on\\n               the example of Doctor Who. The article examines the changes driving the development\\n               of the show moving from character-oriented in the so-called âClassic Whoâ\\n               (1963-1989) to showrunner-oriented in its revival started in 2005. It also seeks to\\n               describe stability of the characterization of the protagonist as evidenced in the\\n               dialogues, and to discuss authorial relations between showrunners and their teams.  \n",
       "1                                                                                                                                                                                                                                                                                                                                                                                                                                                                                                                                                                                                                                                                                                                                                                                                                                                                                                                                                                                                                                                                                                                                                                                                                                                                                                                                                                                                                                                                                                                                                                                                                                                                                                                                                                                                                                                                                                                                                                                                                                                                                                                                                                                                                                                                                                                                                                                                                This editorial introduces the special issue on âDigital Humanities & Film Studies: Analyzing the Modalities of Moving Images,â which contains a total of eight exciting contributions. Moreover, this editorial aims to highlight the complementary disciplinary perspectives on the computer-aided analysis of moving images, which are important prerequisites to better understand and situate a common DH perspective  \n",
       "2                                                                                                                                                                                                                                                                                                                                                                                                                                                                                                                                                                                                                                                                                                                                                                                                                                                                                                                                                                                                                                                                                                                                                                                                                                                                                                                                                                                                                                                                                                                                                                                                                                                                                                                                                                                                                                                                                                                                                                                                                                                                                         Lots of approaches for automated video analysis have been suggested since the\\n               1990ies, which have the potential to support quantitative and qualitative analysis in\\n               film studies. However, software solutions for the scholarly study of film that\\n               utilise video analysis algorithms are still relatively rare. In this paper, we aim to\\n               provide an overview of related work in this field, review current developments in\\n               computer vision, compare machine and human performance for some visual recognition\\n               tasks, and outline the requirements for video analysis software that would optimally\\n               support scholars of film studies.  \n",
       "3                                                                                                                                                                                                                                                                                                                                                                                                                                                                                                                                                                                                                                                                                                                                                                                                                                                                                                                                                                                                                                                                                                                                                                                                                                                                                                                                                                                                                                                                                                                                                                                                                                                                                                                                                                                                                                                                                                                                                         We examine film dialogue with quantitative textual analysis (stylometry, sentiment\\n               analysis, distant reading). Working with transcribed dialogue in almost 300\\n               productions, we explore the complex way in which most-frequent-words-based stylometry\\n               and lexicon-based sentiment analysis produce patterns of similarity and difference\\n               between screenwriters and/or a priori IMDB-defined genres. In fact, some of our\\n               results show that counting and comparing very frequent word lists reveals further\\n               similarities: of theme, implied audience, stylistic patternings. The results are\\n               encouraging enough to suggest that such quantitative approach to film dialogue may\\n               become a welcome addition to the arsenal of film studies methodology.   \n",
       "4                                                                                                                                                                                                                                                                                                                                                                                                                                                                                                                                                                                                                                                                                                                                                                                                                                                                                                                                                                                                                                                                                                                                                                                                                                                                                                                                                                                                                                                                                                                                                                                                                                                                                                                                                                                                                                                                                                                                                                                                                                                                                         Lots of approaches for automated video analysis have been suggested since the\\n               1990ies, which have the potential to support quantitative and qualitative analysis in\\n               film studies. However, software solutions for the scholarly study of film that\\n               utilise video analysis algorithms are still relatively rare. In this paper, we aim to\\n               provide an overview of related work in this field, review current developments in\\n               computer vision, compare machine and human performance for some visual recognition\\n               tasks, and outline the requirements for video analysis software that would optimally\\n               support scholars of film studies.  \n",
       "5                                                                                                                                                                                                                                                                                                                                                                                                                                                                                                                                                                                                                                                                                                                                                                                                                                                                                                                                                                                                                                                                                                                                                                                                                                                                                                                                                                                                                                                                                                                                In recent years, efforts to unlock digitized moving image collections have focused\\n               primarily on the retrieval of collection items through semantic descriptors: keywords\\n               or other labels produced either manually, or as (semi-)automatically generated\\n               metadata. As a result, access to digital archives is still governed overwhelmingly by\\n               a logic of search. In practice, this means that users not only need to know what they\\n               are looking for, but are also constrained by the interpretive frameworks informing\\n               the materialsâ labelling. Arguably, this poses restrictions on what they can find,\\n               how they can interrelate collection objects, and ultimately, how they can reuse or\\n               reinterpret collections. Taking such issues as its starting point, the Sensory Moving Image Archive project (SEMIA) investigated\\n               how visual analysis tools can help enable more exploratory forms of engaging with\\n               digital archives. In doing so, it focused on sensory features, which are essential to\\n               usersâ experiences of audiovisual heritage objects but inadequately captured by\\n               verbal description.  \n",
       "6  The 1920s and 1930s saw the rise of the city symphony, a film phenomenon\\n                              of experimental-documentary city films that took the modern metropolis\\n                              as their protagonist and presented it in its multiple facets and\\n                              kaleidoscopic nature. While Ruttmannâs Berlin. Die Sinfonie der\\n                                    Grosstadt (1927) and Vertovâs Chelovek s kinoapparatom (1929) gained canonical status\\n                              and exert a considerable influence on filmmaking to this very day, the\\n                              city symphony has remained a somewhat downplayed and neglected\\n                              phenomenon in film history. Indeed, besides the handful of well-known\\n                              titles, there have been more than eighty films made around the globe,\\n                              many of which fell into oblivion and have received little or no\\n                              scholarly attention at all. Moreover, even the canonical examples have\\n                              never systematically and structurally been analyzed in detail in a\\n                              comparative way. The result is the lack of a sophisticated and clear\\n                              definition of the city symphony, based on both the canonical films and\\n                              the greater city symphony corpus. My research sets in at this point,\\n                              addressing the conspicuous absence of an analysis of city symphony\\n                              characteristics. It does so by making use of a combined methodology of\\n                              traditional film analysis methods and digital tools. This article\\n                              reflects on the methodology applied and tools chosen and put into\\n                              practice to study and analyze the visual material of city symphonies,\\n                              which with their highly complex structure, dense imagery, and themes\\n                              as well as their experimental techniques and striking editing\\n                              patterns, are a perfect fit for a computational film analysis.\\n                              Particularly, the digital film/video annotation software ELAN, the\\n                              Cinemetrics method, a bar chart representation of shot lengths, and\\n                              the grid visualizations of multiple film frames created with ImageJ\\n                              play a role in this case study, which also broaches the aspect and\\n                              benefits of manual digital analysis.  "
      ]
     },
     "metadata": {},
     "execution_count": 47
    }
   ],
   "metadata": {}
  },
  {
   "cell_type": "markdown",
   "source": [
    "## Stage Five: Plot some Aspect of the Data¶"
   ],
   "metadata": {}
  },
  {
   "cell_type": "code",
   "execution_count": 48,
   "source": [
    "from collections import Counter\r\n",
    "\r\n",
    "word_bag = Counter()\r\n",
    "articles['abstract'].str.lower().str.split().apply(word_bag.update)\r\n",
    "print(word_bag)"
   ],
   "outputs": [
    {
     "output_type": "stream",
     "name": "stdout",
     "text": [
      "Counter({'the': 50, 'of': 40, 'and': 31, 'in': 26, 'to': 18, 'a': 16, 'analysis': 15, 'film': 15, 'this': 13, 'for': 10, 'on': 9, 'which': 9, 'are': 8, 'have': 8, 'that': 8, 'as': 7, 'city': 7, 'video': 6, 'moving': 5, 'software': 5, 'with': 5, 'digital': 5, 'study': 4, 'it': 4, 'their': 4, 'been': 4, 'support': 4, 'quantitative': 4, 'studies.': 4, 'we': 4, 'visual': 4, 'or': 4, 'by': 4, 'they': 4, 'can': 4, 'article': 3, 'its': 3, 'also': 3, 'scholarly': 3, 'still': 3, 'an': 3, 'some': 3, 'dialogue': 3, 'how': 3, 'films': 3, 'canonical': 3, 'symphony': 3, 'methods': 2, 'texts': 2, 'show': 2, 'protagonist': 2, 'between': 2, 'editorial': 2, 'moreover,': 2, 'lots': 2, 'approaches': 2, 'automated': 2, 'suggested': 2, 'since': 2, '1990ies,': 2, 'potential': 2, 'qualitative': 2, 'however,': 2, 'solutions': 2, 'utilise': 2, 'algorithms': 2, 'relatively': 2, 'rare.': 2, 'paper,': 2, 'aim': 2, 'provide': 2, 'overview': 2, 'related': 2, 'work': 2, 'field,': 2, 'review': 2, 'current': 2, 'developments': 2, 'computer': 2, 'vision,': 2, 'compare': 2, 'machine': 2, 'human': 2, 'performance': 2, 'recognition': 2, 'tasks,': 2, 'outline': 2, 'requirements': 2, 'would': 2, 'optimally': 2, 'scholars': 2, 'sentiment': 2, 'complex': 2, 'results': 2, 'very': 2, 'such': 2, 'image': 2, 'focused': 2, 'collection': 2, 'is': 2, 'what': 2, 'but': 2, 'point,': 2, 'sensory': 2, 'tools': 2, 'more': 2, 'symphony,': 2, 'phenomenon': 2, 'multiple': 2, 'into': 2, 'at': 2, 'methodology': 2, 'analysis.': 2, 'presents': 1, 'possibilities': 1, 'effectively': 1, 'using': 1, 'stylometric': 1, 'popular': 1, 'literary': 1, 'written': 1, 'television,': 1, 'example': 1, 'doctor': 1, 'who.': 1, 'examines': 1, 'changes': 1, 'driving': 1, 'development': 1, 'from': 1, 'character-oriented': 1, 'so-called': 1, 'â\\x80\\x9cclassic': 1, 'whoâ\\x80\\x9d': 1, '(1963-1989)': 1, 'showrunner-oriented': 1, 'revival': 1, 'started': 1, '2005.': 1, 'seeks': 1, 'describe': 1, 'stability': 1, 'characterization': 1, 'evidenced': 1, 'dialogues,': 1, 'discuss': 1, 'authorial': 1, 'relations': 1, 'showrunners': 1, 'teams.': 1, 'introduces': 1, 'special': 1, 'issue': 1, 'â\\x80\\x9cdigital': 1, 'humanities': 1, '&': 1, 'studies:': 1, 'analyzing': 1, 'modalities': 1, 'images,â\\x80\\x9d': 1, 'contains': 1, 'total': 1, 'eight': 1, 'exciting': 1, 'contributions.': 1, 'aims': 1, 'highlight': 1, 'complementary': 1, 'disciplinary': 1, 'perspectives': 1, 'computer-aided': 1, 'images,': 1, 'important': 1, 'prerequisites': 1, 'better': 1, 'understand': 1, 'situate': 1, 'common': 1, 'dh': 1, 'perspective': 1, 'examine': 1, 'textual': 1, '(stylometry,': 1, 'analysis,': 1, 'distant': 1, 'reading).': 1, 'working': 1, 'transcribed': 1, 'almost': 1, '300': 1, 'productions,': 1, 'explore': 1, 'way': 1, 'most-frequent-words-based': 1, 'stylometry': 1, 'lexicon-based': 1, 'produce': 1, 'patterns': 1, 'similarity': 1, 'difference': 1, 'screenwriters': 1, 'and/or': 1, 'priori': 1, 'imdb-defined': 1, 'genres.': 1, 'fact,': 1, 'our': 1, 'counting': 1, 'comparing': 1, 'frequent': 1, 'word': 1, 'lists': 1, 'reveals': 1, 'further': 1, 'similarities:': 1, 'theme,': 1, 'implied': 1, 'audience,': 1, 'stylistic': 1, 'patternings.': 1, 'encouraging': 1, 'enough': 1, 'suggest': 1, 'approach': 1, 'may': 1, 'become': 1, 'welcome': 1, 'addition': 1, 'arsenal': 1, 'studies': 1, 'methodology.': 1, 'recent': 1, 'years,': 1, 'efforts': 1, 'unlock': 1, 'digitized': 1, 'collections': 1, 'primarily': 1, 'retrieval': 1, 'items': 1, 'through': 1, 'semantic': 1, 'descriptors:': 1, 'keywords': 1, 'other': 1, 'labels': 1, 'produced': 1, 'either': 1, 'manually,': 1, '(semi-)automatically': 1, 'generated': 1, 'metadata.': 1, 'result,': 1, 'access': 1, 'archives': 1, 'governed': 1, 'overwhelmingly': 1, 'logic': 1, 'search.': 1, 'practice,': 1, 'means': 1, 'users': 1, 'not': 1, 'only': 1, 'need': 1, 'know': 1, 'looking': 1, 'for,': 1, 'constrained': 1, 'interpretive': 1, 'frameworks': 1, 'informing': 1, 'materialsâ\\x80\\x99': 1, 'labelling.': 1, 'arguably,': 1, 'poses': 1, 'restrictions': 1, 'find,': 1, 'interrelate': 1, 'objects,': 1, 'ultimately,': 1, 'reuse': 1, 'reinterpret': 1, 'collections.': 1, 'taking': 1, 'issues': 1, 'starting': 1, 'archive': 1, 'project': 1, '(semia)': 1, 'investigated': 1, 'help': 1, 'enable': 1, 'exploratory': 1, 'forms': 1, 'engaging': 1, 'archives.': 1, 'doing': 1, 'so,': 1, 'features,': 1, 'essential': 1, 'usersâ\\x80\\x99': 1, 'experiences': 1, 'audiovisual': 1, 'heritage': 1, 'objects': 1, 'inadequately': 1, 'captured': 1, 'verbal': 1, 'description.': 1, '1920s': 1, '1930s': 1, 'saw': 1, 'rise': 1, 'experimental-documentary': 1, 'took': 1, 'modern': 1, 'metropolis': 1, 'presented': 1, 'facets': 1, 'kaleidoscopic': 1, 'nature.': 1, 'while': 1, 'ruttmannâ\\x80\\x99s': 1, 'berlin.': 1, 'die': 1, 'sinfonie': 1, 'der': 1, 'grosstadt': 1, '(1927)': 1, 'vertovâ\\x80\\x99s': 1, 'chelovek': 1, 's': 1, 'kinoapparatom': 1, '(1929)': 1, 'gained': 1, 'status': 1, 'exert': 1, 'considerable': 1, 'influence': 1, 'filmmaking': 1, 'day,': 1, 'has': 1, 'remained': 1, 'somewhat': 1, 'downplayed': 1, 'neglected': 1, 'history.': 1, 'indeed,': 1, 'besides': 1, 'handful': 1, 'well-known': 1, 'titles,': 1, 'there': 1, 'than': 1, 'eighty': 1, 'made': 1, 'around': 1, 'globe,': 1, 'many': 1, 'fell': 1, 'oblivion': 1, 'received': 1, 'little': 1, 'no': 1, 'attention': 1, 'all.': 1, 'even': 1, 'examples': 1, 'never': 1, 'systematically': 1, 'structurally': 1, 'analyzed': 1, 'detail': 1, 'comparative': 1, 'way.': 1, 'result': 1, 'lack': 1, 'sophisticated': 1, 'clear': 1, 'definition': 1, 'based': 1, 'both': 1, 'greater': 1, 'corpus.': 1, 'my': 1, 'research': 1, 'sets': 1, 'addressing': 1, 'conspicuous': 1, 'absence': 1, 'characteristics.': 1, 'does': 1, 'so': 1, 'making': 1, 'use': 1, 'combined': 1, 'traditional': 1, 'tools.': 1, 'reflects': 1, 'applied': 1, 'chosen': 1, 'put': 1, 'practice': 1, 'analyze': 1, 'material': 1, 'symphonies,': 1, 'highly': 1, 'structure,': 1, 'dense': 1, 'imagery,': 1, 'themes': 1, 'well': 1, 'experimental': 1, 'techniques': 1, 'striking': 1, 'editing': 1, 'patterns,': 1, 'perfect': 1, 'fit': 1, 'computational': 1, 'particularly,': 1, 'film/video': 1, 'annotation': 1, 'elan,': 1, 'cinemetrics': 1, 'method,': 1, 'bar': 1, 'chart': 1, 'representation': 1, 'shot': 1, 'lengths,': 1, 'grid': 1, 'visualizations': 1, 'frames': 1, 'created': 1, 'imagej': 1, 'play': 1, 'role': 1, 'case': 1, 'study,': 1, 'broaches': 1, 'aspect': 1, 'benefits': 1, 'manual': 1})\n"
     ]
    }
   ],
   "metadata": {}
  },
  {
   "cell_type": "code",
   "execution_count": 49,
   "source": [
    "\r\n",
    "dh_words, dh_counts = zip(*word_bag.most_common(15))\r\n",
    "\r\n",
    "import matplotlib.pyplot as plt\r\n",
    "plt.barh(dh_words, dh_counts)"
   ],
   "outputs": [
    {
     "output_type": "execute_result",
     "data": {
      "text/plain": [
       "<BarContainer object of 15 artists>"
      ]
     },
     "metadata": {},
     "execution_count": 49
    },
    {
     "output_type": "display_data",
     "data": {
      "image/png": "[encoded data removed]",
      "text/plain": [
       "<Figure size 432x288 with 1 Axes>"
      ]
     },
     "metadata": {
      "needs_background": "light"
     }
    }
   ],
   "metadata": {}
  },
  {
   "cell_type": "markdown",
   "source": [
    "## Bonus Stage: Add On\r\n",
    "\r\n",
    "Try:\r\n",
    "\r\n",
    "- Iterating through multiple pages (all the pages of a database, for instance)\r\n",
    "\r\n",
    "- Visualizing using another method from our discussion or readings\r\n",
    "\r\n",
    "- Storing your data and / or visualization for external analysis\r\n"
   ],
   "metadata": {}
  },
  {
   "cell_type": "code",
   "execution_count": null,
   "source": [],
   "outputs": [],
   "metadata": {}
  }
 ],
 "metadata": {
  "orig_nbformat": 4,
  "language_info": {
   "name": "python",
   "version": "3.8.11",
   "mimetype": "text/x-python",
   "codemirror_mode": {
    "name": "ipython",
    "version": 3
   },
   "pygments_lexer": "ipython3",
   "nbconvert_exporter": "python",
   "file_extension": ".py"
  },
  "kernelspec": {
   "name": "python3",
   "display_name": "Python 3.8.8 64-bit ('base': conda)"
  },
  "interpreter": {
   "hash": "598d64e08a06bfba065a99698ec5bbec753236817de80e4f3bcf221574aa140c"
  }
 },
 "nbformat": 4,
 "nbformat_minor": 2
}